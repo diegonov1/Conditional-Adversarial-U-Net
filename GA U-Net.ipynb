{
 "cells": [
  {
   "cell_type": "code",
   "execution_count": 1,
   "metadata": {},
   "outputs": [],
   "source": [
    "#GA U-Net"
   ]
  },
  {
   "cell_type": "code",
   "execution_count": 8,
   "metadata": {},
   "outputs": [],
   "source": [
    "import tensorflow as tf\n",
    "import matplotlib.pyplot as plt\n",
    "import numpy as np\n"
   ]
  },
  {
   "cell_type": "code",
   "execution_count": null,
   "metadata": {},
   "outputs": [],
   "source": [
    "#Main file-path\n",
    "PATH = '/content/drive/My Drive/...'\n",
    "\n",
    "#input data path\n",
    "INPATH = PATH + '/...'\n",
    "\n",
    "#target data path\n",
    "OUPATH = PATH + '/...'\n",
    "\n",
    "#checkpoints data path\n",
    "CKPATH = PATH + '/...'\n",
    "\n",
    "#GCP Console Command\n",
    "imgurl = !ls -1 '{INPATH}' #all in one column"
   ]
  },
  {
   "cell_type": "code",
   "execution_count": 3,
   "metadata": {},
   "outputs": [
    {
     "ename": "NameError",
     "evalue": "name 'np' is not defined",
     "output_type": "error",
     "traceback": [
      "\u001b[0;31m---------------------------------------------------------------------------\u001b[0m",
      "\u001b[0;31mNameError\u001b[0m                                 Traceback (most recent call last)",
      "\u001b[0;32m<ipython-input-3-b46af05e0e89>\u001b[0m in \u001b[0;36m<module>\u001b[0;34m\u001b[0m\n\u001b[1;32m      3\u001b[0m \u001b[0;34m\u001b[0m\u001b[0m\n\u001b[1;32m      4\u001b[0m \u001b[0;31m#Randomized lists\u001b[0m\u001b[0;34m\u001b[0m\u001b[0;34m\u001b[0m\u001b[0;34m\u001b[0m\u001b[0m\n\u001b[0;32m----> 5\u001b[0;31m \u001b[0mrandurls\u001b[0m \u001b[0;34m=\u001b[0m \u001b[0mnp\u001b[0m\u001b[0;34m.\u001b[0m\u001b[0mcopy\u001b[0m\u001b[0;34m(\u001b[0m\u001b[0mimgurls\u001b[0m\u001b[0;34m)\u001b[0m\u001b[0;34m\u001b[0m\u001b[0;34m\u001b[0m\u001b[0m\n\u001b[0m\u001b[1;32m      6\u001b[0m \u001b[0mnp\u001b[0m\u001b[0;34m.\u001b[0m\u001b[0mrandom\u001b[0m\u001b[0;34m.\u001b[0m\u001b[0mshuffle\u001b[0m\u001b[0;34m(\u001b[0m\u001b[0mrandurls\u001b[0m\u001b[0;34m)\u001b[0m\u001b[0;34m\u001b[0m\u001b[0;34m\u001b[0m\u001b[0m\n\u001b[1;32m      7\u001b[0m \u001b[0;34m\u001b[0m\u001b[0m\n",
      "\u001b[0;31mNameError\u001b[0m: name 'np' is not defined"
     ]
    }
   ],
   "source": [
    "n = 500\n",
    "train_n = round(n * 0.80)\n",
    "\n",
    "#Randomized lists\n",
    "randurls = np.copy(imgurls)\n",
    "np.random.shuffle(randurls)\n",
    "\n",
    "#Train/Test Split\n",
    "tr_urls = randurls[:train_n]\n",
    "ts_urls = randurls[train:n]\n",
    "\n",
    "print(len(imgurl), len(tr_urls), len(ts_urls))"
   ]
  },
  {
   "cell_type": "code",
   "execution_count": 4,
   "metadata": {},
   "outputs": [],
   "source": [
    "#Fixing image size\n",
    "\n",
    "IMG_WIDTH = 256\n",
    "IMG_HEIGH = 256\n",
    "\n",
    "#resizing the images function\n",
    "def resize(inimg, tgimg, height, width):\n",
    "    inimg = tf.resize(inimg, [height, width])\n",
    "    tgimg = tf.resize(tgimg, [height, width])\n",
    "    \n",
    "    return inimg, tgimg\n",
    "\n",
    "#normalize pictures function \n",
    "def normalize(inimg, tgimg):\n",
    "    inimg = (inimg / 127.5) - 1\n",
    "    tgimg = (inimg / 127.5) - 1\n",
    "    \n",
    "    return inimg, tgimg"
   ]
  },
  {
   "cell_type": "code",
   "execution_count": 5,
   "metadata": {},
   "outputs": [],
   "source": [
    "#Data augmentation function (Crop and Flip)\n",
    "def random_jitter(inimg, tgimg):\n",
    "    inimg, tgimg = resize(inimg, tgimg, 286, 286)\n",
    "    #stacking function\n",
    "    stacked_img = tf.stack([inimg, tgimg], axis=0)\n",
    "    cropped_img = tf.image.random_crop(stacked_image, size=[2, IMG_HEIGH, IMG_WIDTH, 3])\n",
    "    \n",
    "    inimg, tgimg = cropped_image[0], cropped_image[1]\n",
    "    \n",
    "    if tf.random.uniform(()) > 0.5:\n",
    "        \n",
    "        inimg = tf.image.flip_left_right(inimg)\n",
    "        tgimg = tf.image.flip_left_right(tgimg)\n",
    "        \n",
    "    return inimg, tgimg"
   ]
  },
  {
   "cell_type": "code",
   "execution_count": 6,
   "metadata": {},
   "outputs": [
    {
     "ename": "NameError",
     "evalue": "name 'true' is not defined",
     "output_type": "error",
     "traceback": [
      "\u001b[0;31m---------------------------------------------------------------------------\u001b[0m",
      "\u001b[0;31mNameError\u001b[0m                                 Traceback (most recent call last)",
      "\u001b[0;32m<ipython-input-6-5fdc3507b54f>\u001b[0m in \u001b[0;36m<module>\u001b[0;34m\u001b[0m\n\u001b[0;32m----> 1\u001b[0;31m \u001b[0;32mdef\u001b[0m \u001b[0mload_image\u001b[0m\u001b[0;34m(\u001b[0m\u001b[0mfilename\u001b[0m\u001b[0;34m,\u001b[0m \u001b[0maugment\u001b[0m\u001b[0;34m=\u001b[0m\u001b[0mtrue\u001b[0m\u001b[0;34m)\u001b[0m\u001b[0;34m:\u001b[0m\u001b[0;34m\u001b[0m\u001b[0;34m\u001b[0m\u001b[0m\n\u001b[0m\u001b[1;32m      2\u001b[0m \u001b[0;34m\u001b[0m\u001b[0m\n\u001b[1;32m      3\u001b[0m     \u001b[0minimg\u001b[0m\u001b[0;34m,\u001b[0m \u001b[0mtgimg\u001b[0m \u001b[0;34m=\u001b[0m \u001b[0mresize\u001b[0m\u001b[0;34m(\u001b[0m\u001b[0minimg\u001b[0m\u001b[0;34m,\u001b[0m \u001b[0mtgimg\u001b[0m\u001b[0;34m,\u001b[0m \u001b[0mIMG_HEIGHT\u001b[0m\u001b[0;34m,\u001b[0m \u001b[0mIMG_WIDTH\u001b[0m\u001b[0;34m)\u001b[0m\u001b[0;34m\u001b[0m\u001b[0;34m\u001b[0m\u001b[0m\n\u001b[1;32m      4\u001b[0m \u001b[0;34m\u001b[0m\u001b[0m\n\u001b[1;32m      5\u001b[0m     \u001b[0;32mif\u001b[0m \u001b[0maugment\u001b[0m\u001b[0;34m:\u001b[0m\u001b[0;34m\u001b[0m\u001b[0;34m\u001b[0m\u001b[0m\n",
      "\u001b[0;31mNameError\u001b[0m: name 'true' is not defined"
     ]
    }
   ],
   "source": [
    "def load_image(filename, augment=True):\n",
    "    \n",
    "    inimg, tgimg = resize(inimg, tgimg, IMG_HEIGHT, IMG_WIDTH)\n",
    "    \n",
    "    if augment:\n",
    "        inimg, tgimg = random_jitter(inimg, tgimg)\n",
    "        \n",
    "    inimg, tgimg = normalize(inimg, tgimg)\n",
    "    \n",
    "    return inimg, tgimg"
   ]
  },
  {
   "cell_type": "code",
   "execution_count": 7,
   "metadata": {},
   "outputs": [],
   "source": [
    "def load_train_image(filename):\n",
    "    return load_image(filename, True)\n",
    "\n",
    "def load_test_image(filename):\n",
    "    return load_image(filename, False)"
   ]
  },
  {
   "cell_type": "code",
   "execution_count": 9,
   "metadata": {},
   "outputs": [
    {
     "ename": "TypeError",
     "evalue": "from_tensor_slices() missing 1 required positional argument: 'tensors'",
     "output_type": "error",
     "traceback": [
      "\u001b[0;31m---------------------------------------------------------------------------\u001b[0m",
      "\u001b[0;31mTypeError\u001b[0m                                 Traceback (most recent call last)",
      "\u001b[0;32m<ipython-input-9-e39f01f1d08c>\u001b[0m in \u001b[0;36m<module>\u001b[0;34m\u001b[0m\n\u001b[1;32m      1\u001b[0m \u001b[0;31m#Generating training datasets from tensor slices\u001b[0m\u001b[0;34m\u001b[0m\u001b[0;34m\u001b[0m\u001b[0;34m\u001b[0m\u001b[0m\n\u001b[0;32m----> 2\u001b[0;31m \u001b[0mtrain_dataset\u001b[0m \u001b[0;34m=\u001b[0m \u001b[0mtf\u001b[0m\u001b[0;34m.\u001b[0m\u001b[0mdata\u001b[0m\u001b[0;34m.\u001b[0m\u001b[0mDataset\u001b[0m\u001b[0;34m.\u001b[0m\u001b[0mfrom_tensor_slices\u001b[0m\u001b[0;34m(\u001b[0m\u001b[0;34m)\u001b[0m\u001b[0;34m\u001b[0m\u001b[0;34m\u001b[0m\u001b[0m\n\u001b[0m",
      "\u001b[0;31mTypeError\u001b[0m: from_tensor_slices() missing 1 required positional argument: 'tensors'"
     ]
    }
   ],
   "source": [
    "#Generating training datasets from tensor slices\n",
    "train_dataset = tf.data.Dataset.from_tensor_slices(tr_urls)\n",
    "train_dataset = train_dataset.map(load_train_image, num_parallel_calls=tf.data.experimental.AUTOTUNE)\n",
    "train_dataset = train_dataset.batch(1)\n",
    "\n",
    "test_dataset = tf.data.Dataset.from_tensor_slices(tr_urls)\n",
    "test_dataset = test_dataset.map(load_test_image, num_parallel_calls=tf.data.experimental.AUTOTUNE)\n",
    "test_dataset = test_dataset.batch(1)"
   ]
  },
  {
   "cell_type": "code",
   "execution_count": 10,
   "metadata": {},
   "outputs": [
    {
     "ename": "SyntaxError",
     "evalue": "invalid syntax (<ipython-input-10-3f0f2aa0b346>, line 14)",
     "output_type": "error",
     "traceback": [
      "\u001b[0;36m  File \u001b[0;32m\"<ipython-input-10-3f0f2aa0b346>\"\u001b[0;36m, line \u001b[0;32m14\u001b[0m\n\u001b[0;31m    kernel_initializer=initializer,\u001b[0m\n\u001b[0m                     ^\u001b[0m\n\u001b[0;31mSyntaxError\u001b[0m\u001b[0;31m:\u001b[0m invalid syntax\n"
     ]
    }
   ],
   "source": [
    "from tensorflow.keras.layers import *\n",
    "from tensorflow.keras import Sequential, Model\n",
    "\n",
    "def downSample(filters):\n",
    "    \n",
    "    result = Sequential()\n",
    "    initializer = tf.random_normal_initializer(0, 0.02)\n",
    "    \n",
    "    #Convolutional Layer\n",
    "    result.add(Conv2D(filters,\n",
    "                      kernel_size=4,\n",
    "                      strides=2,\n",
    "                      padding='same',\n",
    "                      kernel_initializer=initializer,\n",
    "                      use_bias=not apply_batchnorm))\n",
    "    #BatchNorm Layer\n",
    "    if apply_batchnorm:\n",
    "        result.add(BatchNormalization())\n",
    "     \n",
    "    #Activation\n",
    "    result.add(LeakyReLU)\n",
    "    \n",
    "    return result"
   ]
  },
  {
   "cell_type": "code",
   "execution_count": 11,
   "metadata": {},
   "outputs": [],
   "source": [
    "def upsample(filters, apply_dropout=True):\n",
    "    \n",
    "    result = Sequential()\n",
    "    initializer = tf.random_normal_initializer(0, 0.02)\n",
    "    \n",
    "    #Convolutional Layer\n",
    "    result.add(Conv2DTranspose(filters,\n",
    "                               kernel_size=4,\n",
    "                               strides=2,\n",
    "                               padding='same',\n",
    "                               kernel_initializer=initializer,\n",
    "                               use_bias=False))\n",
    "    #BatchNorm Layer\n",
    "    result.add(BatchNormalization())\n",
    "    \n",
    "    if apply_dropout:\n",
    "        result.add(Dropout(0.5))\n",
    "     \n",
    "    #Activation\n",
    "    result.add(ReLU)\n",
    "    \n",
    "    return result"
   ]
  },
  {
   "cell_type": "code",
   "execution_count": null,
   "metadata": {},
   "outputs": [],
   "source": [
    "def generator():\n",
    "    inputs = tf.keras.layers.Input(shape=[None, None, 3])\n",
    "    \n",
    "    down_stack = [\n",
    "        downsample(64, apply_batchnorm=False),\n",
    "        downsample(128),\n",
    "        downsample(256),\n",
    "        downsample(512),\n",
    "        downsample(512),\n",
    "        downsample(512),\n",
    "        downsample(512),\n",
    "        downsample(512),\n",
    "    ]\n",
    "    \n",
    "    up_stack = [\n",
    "        upsample(512, apply_dropout=True),\n",
    "        upsample(512, apply_dropout=True),\n",
    "        upsample(512, apply_dropout=True),\n",
    "        upsample(512),\n",
    "        upsample(256),\n",
    "        upsample(128),\n",
    "        upsample(64),\n",
    "    ]\n",
    "    \n",
    "    initializer = tf.random_normal_initializer(0, 0.02)\n",
    "    \n",
    "    last = Conv2DTranspose(filters=3,\n",
    "                          kernel_size=4,\n",
    "                          strides=2,\n",
    "                          padding='same',\n",
    "                          kernel_initializer = initializer,\n",
    "                          activation='tanh')\n",
    "    \n",
    "    x = inputs\n",
    "    skip_x = []\n",
    "    concat = Concatenate()\n",
    "    \n",
    "    for down in down_stack:\n",
    "        x = down(x)\n",
    "        skip_x.append(x)\n",
    "    \n",
    "    skip_x = reversed(skip_x[:-1])\n",
    "    \n",
    "    for up, sk in zip(up_stack, skip_x):\n",
    "        x = up(x)\n",
    "        x = concat([x, sk])\n",
    "    \n",
    "    last = last(x)\n",
    "    \n",
    "    return Model(inputs=inputs, outputs=last)"
   ]
  },
  {
   "cell_type": "code",
   "execution_count": null,
   "metadata": {},
   "outputs": [],
   "source": [
    "def Discriminator():\n",
    "    \n",
    "    initializer = tf.random_normal_initializer(0, 0.02)\n",
    "    \n",
    "    ini = Input(shape=[None, None, 3], name='input_img')\n",
    "    gen = Input(shape=[None, None, 3], name='gen_img')\n",
    "\n",
    "    con = concatenate([ini, gen])\n",
    "\n",
    "    down1 = downsample(64, apply_batchnorm=False)(con)\n",
    "    down2 = downsample(128, 4)(down1)\n",
    "    down3 = downsample(256, 4)(down2)\n",
    "    down4 = downsample(256, 4)(down3)\n",
    "    \n",
    "    last = Conv2D(filters=1,\n",
    "                  kernel_size=4,\n",
    "                  strides=1,\n",
    "                  padding='same',\n",
    "                  kernel_initializer=initializer)(down4)\n",
    "    \n",
    "    return Model(input=[ini, gen], outputs=last)"
   ]
  },
  {
   "cell_type": "code",
   "execution_count": 12,
   "metadata": {},
   "outputs": [
    {
     "ename": "SyntaxError",
     "evalue": "invalid syntax (<ipython-input-12-b744a5d84793>, line 3)",
     "output_type": "error",
     "traceback": [
      "\u001b[0;36m  File \u001b[0;32m\"<ipython-input-12-b744a5d84793>\"\u001b[0;36m, line \u001b[0;32m3\u001b[0m\n\u001b[0;31m    def discriminatorLoss:\u001b[0m\n\u001b[0m                         ^\u001b[0m\n\u001b[0;31mSyntaxError\u001b[0m\u001b[0;31m:\u001b[0m invalid syntax\n"
     ]
    }
   ],
   "source": [
    "loss_object = tf.keras.losses.BinaryCrossentropy(from_logits=True) #logits True = 0 to 1\n",
    "\n",
    "def discriminatorLoss(disc_real_output, disc_generated_output):\n",
    "    #Real true vs detected by discriminator\n",
    "    real_loss = loss_object(tf.ones_like(disc_real_output), disc_real_output)\n",
    "    #Real false vs detected by discriminator\n",
    "    generated_loss = loss_object(tf.zeros_like(disc_generated_output), disc_generated_output)\n",
    "    \n",
    "    total_disc_loss = real_loss + generated_loss\n",
    "    \n",
    "    return total_disc_loss"
   ]
  },
  {
   "cell_type": "code",
   "execution_count": 13,
   "metadata": {},
   "outputs": [],
   "source": [
    "lamda = 100\n",
    "\n",
    "def generator_loss(disc_generated_output, gen_output, target):\n",
    "    gan_loss = loss_object(tf.ones_like(disc_generated_output), disc_generated_output)\n",
    "    #Mean Absolute Error\n",
    "    l1_loss = tf.reduce_mean(tf.abs(target - gen_output))\n",
    "    \n",
    "    total_gen_loss = gan_loss + l1_loss\n",
    "    \n",
    "    return total_gen_loss"
   ]
  },
  {
   "cell_type": "code",
   "execution_count": null,
   "metadata": {},
   "outputs": [],
   "source": [
    "import os\n",
    "\n",
    "generator_optimizer = tf.keras.optimizers.Adam(2e-4, beta_1=0.5)\n",
    "discriminator_optimizer = tf.keras.optimizers.Adam(2e-4, beta_1=0.5)\n",
    "\n",
    "checkpoint_prefix = os.path.join(CKPATH, 'ckpt')\n",
    "checkpoint = tf.train.Checkpoint(generator_optimizer=generator_optimizer,\n",
    "                                discriminator_optimizer=discriminator_optimizer,\n",
    "                                generator=generator,\n",
    "                                discriminator=discriminator)\n",
    "\n",
    "#checkpoint.restore(tf.train.latest_checkpoint(CKPATH)).assert_consumed()"
   ]
  },
  {
   "cell_type": "code",
   "execution_count": null,
   "metadata": {},
   "outputs": [],
   "source": [
    "def generate_images(model, test_input, tar, save_filename=False, display_imgs=True):\n",
    "    \n",
    "    prediction = model(test_input, training=True)\n",
    "    \n",
    "    if save_filename:\n",
    "        tf.keras.preprocessing.image.save_img(PATH + '/output/' + save_filename + '.jpg', prediction[0, ...])\n",
    "        \n",
    "    plt.figure(figsize=(10,10))\n",
    "\n",
    "    display_list = [test_input[0], tar[0], prediction[0]]\n",
    "    title = ['Input Image', 'Ground Truth', 'Predicted Image']\n",
    "    \n",
    "    if display_imgs:\n",
    "        for i in range(3):\n",
    "            plt.subplot(1, 3, i+1)\n",
    "            plt.title(title[i])\n",
    "            # getting the pixel values between [0, 1] to plot it.\n",
    "            plt.imshow(display_list[i] * 0.5 + 0.5)\n",
    "            plt.axis('off')\n",
    "    plt.show()"
   ]
  },
  {
   "cell_type": "code",
   "execution_count": null,
   "metadata": {},
   "outputs": [],
   "source": [
    "@tf.function()\n",
    "def train_step(input_image, target):\n",
    "    \n",
    "    with tf.GradientTape() as gen_tape, tf.GradientTape as discr_tape:\n",
    "    \n",
    "        output_image = generator(input_image, training=Ture)\n",
    "        output_gen_discr = discriminator([output_image, input_image], training=True)\n",
    "        output_trg_discr = discriminator([target, input_image], training=True)\n",
    "        discr_loss = discriminator_loss(output_trg_discr, output_gen_discr)\n",
    "        gen_loss = generator_loss(output_gen_discr, output_image, target)\n",
    "        \n",
    "        generator_grads = gen_tape.gradient(gen_loss, generator.trainable_variables)\n",
    "        discriminator_grads = discr_tape.gradient(discr_loss, discriminator.trainable_variables)\n",
    "        generator_optimizer.apply_gradients(zip(generator_grads, generator.trainable_variables))\n",
    "        discriminator_optimizer.apply_gradients(zip(discriminator_grads, discriminator.trainable_variables))"
   ]
  },
  {
   "cell_type": "code",
   "execution_count": null,
   "metadata": {},
   "outputs": [],
   "source": [
    "from IPython.display import clear_output\n",
    "\n",
    "def train(dataset, epochs):\n",
    "    for epoch in range(epochs):\n",
    "        imgi = 0\n",
    "        for input_image, target in dataset:\n",
    "            print('Epoch:'  + str(epoch) + ' - Train: ' + str(imgi) + '/' + str(len(tr_urls)))\n",
    "            imgi += 1\n",
    "            train_step(input_image, target)\n",
    "        \n",
    "            clear_outputs(wait=True)\n",
    "        \n",
    "        for inp, tar in test_dataset.take(5):\n",
    "            generate_images(generator, inp, tar, str(imgi) + '_' + str(epoch), display_imgs=True)\n",
    "            \n",
    "        if (epoch + 1) % 25 == 0:\n",
    "            checkpoint.save(file_prefix = checkpoint_prefix)"
   ]
  },
  {
   "cell_type": "code",
   "execution_count": null,
   "metadata": {},
   "outputs": [],
   "source": [
    "#train(train_dataset, 100)"
   ]
  }
 ],
 "metadata": {
  "kernelspec": {
   "display_name": "Python 3",
   "language": "python",
   "name": "python3"
  },
  "language_info": {
   "codemirror_mode": {
    "name": "ipython",
    "version": 3
   },
   "file_extension": ".py",
   "mimetype": "text/x-python",
   "name": "python",
   "nbconvert_exporter": "python",
   "pygments_lexer": "ipython3",
   "version": "3.7.7"
  }
 },
 "nbformat": 4,
 "nbformat_minor": 4
}
